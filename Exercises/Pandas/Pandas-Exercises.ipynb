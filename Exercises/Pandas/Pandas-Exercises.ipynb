{
 "cells": [
  {
   "cell_type": "code",
   "execution_count": 1,
   "metadata": {},
   "outputs": [],
   "source": [
    "import pandas as pd\n",
    "unames = ['user_id', 'gender', 'age', 'occupation', 'zip']\n",
    "users = pd.read_csv('ml-1m/users.dat', sep='::', header=None, names=unames, engine='python')\n",
    "rnames = ['user_id', 'movie_id', 'rating', 'timestamp']\n",
    "ratings = pd.read_csv('ml-1m/ratings.dat', sep='::', header=None, names=rnames,  engine='python')\n",
    "mnames = ['movie_id', 'title', 'genres']\n",
    "movies = pd.read_csv('ml-1m/movies.dat', sep='::', header=None, names=mnames,  engine='python', encoding='ISO-8859-1')\n",
    "data = pd.merge(pd.merge(ratings, users), movies)"
   ]
  },
  {
   "cell_type": "markdown",
   "metadata": {},
   "source": [
    "# Exercises: \n",
    "\n",
    "**MovieLens database**"
   ]
  },
  {
   "cell_type": "markdown",
   "metadata": {},
   "source": [
    "1- Filter  films that have received at least 250 ratings. **Use only these films in the rest of exercices**"
   ]
  },
  {
   "cell_type": "code",
   "execution_count": 2,
   "metadata": {},
   "outputs": [],
   "source": [
    "def ex1():\n",
    "    rated_films_count = data[['title', 'rating']].groupby('title').count()\n",
    "    highly_rated_films = rated_films_count[rated_films_count['rating'] >= 250].sort_values(by='rating', ascending=False)\n",
    "    \n",
    "    return highly_rated_films"
   ]
  },
  {
   "cell_type": "markdown",
   "metadata": {},
   "source": [
    "2- Obtain the mean ratings for each movie grouped by gender that have at least 250 ratings. "
   ]
  },
  {
   "cell_type": "code",
   "execution_count": 3,
   "metadata": {},
   "outputs": [],
   "source": [
    "def ex2():\n",
    "    # Get the most rated films (num. ratings >= 250)\n",
    "    highly_rated_films = ex1()\n",
    "    \n",
    "    # Filter the data, selecting first the most rated films and grouping the mean ratings\n",
    "    # by title and gender\n",
    "    filtered_data = data[data['title'].isin(highly_rated_films.index)][['title', 'gender', 'rating']].groupby(['title', 'gender']).mean()\n",
    "    \n",
    "    # Rearrange data in table so that the indexes are the titles and the columns are the mean ratings per gender\n",
    "    mean_film_rating_per_gender = pd.pivot_table(filtered_data, values='rating', index=['title'], columns=['gender'])\n",
    "    \n",
    "    return mean_film_rating_per_gender"
   ]
  },
  {
   "cell_type": "markdown",
   "metadata": {},
   "source": [
    "3- Show films more valued by women."
   ]
  },
  {
   "cell_type": "code",
   "execution_count": 4,
   "metadata": {},
   "outputs": [],
   "source": [
    "def ex3():\n",
    "    mean_film_rating_per_gender = ex2()\n",
    "    \n",
    "    highest_rated_films_by_women = mean_film_rating_per_gender['F'].sort_values(ascending=False)\n",
    "   \n",
    "    return highest_rated_films_by_women"
   ]
  },
  {
   "cell_type": "markdown",
   "metadata": {},
   "source": [
    "4- Now we wonder which movies are rated more differently between men and women. Which films have more different rating and are more highly valued by women? "
   ]
  },
  {
   "cell_type": "code",
   "execution_count": 5,
   "metadata": {},
   "outputs": [],
   "source": [
    "def ex4():\n",
    "    mean_film_rating = ex2()\n",
    "    mean_film_rating['difference'] = mean_film_rating['M'] - mean_film_rating['F']\n",
    "    \n",
    "    highly_rated_films_by_women = mean_film_rating.sort_values(by='difference')\n",
    "    \n",
    "    return highly_rated_films_by_women"
   ]
  },
  {
   "cell_type": "markdown",
   "metadata": {},
   "source": [
    "5- And which films have more different rating and are more highly valued by men? "
   ]
  },
  {
   "cell_type": "code",
   "execution_count": 6,
   "metadata": {},
   "outputs": [],
   "source": [
    "def ex5():\n",
    "    highly_rated_films_by_women = ex4()\n",
    "    \n",
    "    # We can simply reverse the DataFrame from the previous exercise!\n",
    "    highly_rated_films_by_men = highly_rated_films_by_women[::-1]\n",
    "    \n",
    "    return highly_rated_films_by_men"
   ]
  },
  {
   "cell_type": "markdown",
   "metadata": {},
   "source": [
    "6- What are the films that have generated the most discordant ratings, regardless of gender?"
   ]
  },
  {
   "cell_type": "code",
   "execution_count": 7,
   "metadata": {},
   "outputs": [],
   "source": [
    "def ex6():\n",
    "    highly_rated_films = ex1()\n",
    "    \n",
    "    films_ratings_std = data[data['title'].isin(highly_rated_films.index)][['title', 'rating']].groupby('title').std()\n",
    "    most_discordant_films = films_ratings_std.sort_values(by='rating', ascending=False)\n",
    "    \n",
    "    return most_discordant_films"
   ]
  },
  {
   "cell_type": "markdown",
   "metadata": {},
   "source": [
    "7- What is the highest rated movie in average?"
   ]
  },
  {
   "cell_type": "code",
   "execution_count": 8,
   "metadata": {},
   "outputs": [],
   "source": [
    "def ex7():\n",
    "    highly_rated_films = ex1()\n",
    "    \n",
    "    films_mean_ratings = data[data['title'].isin(highly_rated_films.index)][['title', 'rating']].groupby('title').mean()\n",
    "    highest_rated_film = films_mean_ratings.sort_values(by='rating', ascending=False).head(1)\n",
    "    \n",
    "    return highest_rated_film"
   ]
  },
  {
   "cell_type": "markdown",
   "metadata": {},
   "source": [
    "*** From here use all the ratings ***\n",
    "\n",
    "8- Calculate the average rating of each user. "
   ]
  },
  {
   "cell_type": "code",
   "execution_count": 9,
   "metadata": {},
   "outputs": [],
   "source": [
    "def ex8():\n",
    "    user_mean_score = data[['user_id', 'rating']].groupby('user_id').mean()\n",
    "    \n",
    "    return user_mean_score"
   ]
  },
  {
   "cell_type": "markdown",
   "metadata": {},
   "source": [
    "9- Define a function called  <b>top_movies</b> that given a df, an user an a number n it returns what movies have the top n rank for this user.\n",
    "\n",
    "def top_movies(data,user,n)\n"
   ]
  },
  {
   "cell_type": "code",
   "execution_count": 10,
   "metadata": {},
   "outputs": [],
   "source": [
    "def top_movies(data_, usr, n_rows=10):\n",
    "    user_top_ranked_movies = data_[data_['user_id'] == usr][['title', 'rating']].sort_values(by='rating', ascending=False).head(n_rows)\n",
    "    \n",
    "    return user_top_ranked_movies\n",
    "\n",
    "def ex9():\n",
    "    return top_movies(data, 1, 30)"
   ]
  },
  {
   "cell_type": "markdown",
   "metadata": {},
   "source": [
    "** Data from CSV**"
   ]
  },
  {
   "cell_type": "markdown",
   "metadata": {},
   "source": [
    "10- Read data from csv file: `ma-ba.csv`. Count the number of times `Barça` wins `Madrid` and compute the stadistics of % win, % lose and % draw."
   ]
  },
  {
   "cell_type": "code",
   "execution_count": 11,
   "metadata": {},
   "outputs": [],
   "source": [
    "def get_match_result(row):\n",
    "    \"\"\"\n",
    "    Function to generate the winner of a football match.\n",
    "    \n",
    "    Generates the winner of a football match based on the number\n",
    "    of goals each team has scored. Note that the teams can draw if\n",
    "    none of them scores more goals than the other.\n",
    "    \n",
    "    Parameters\n",
    "    ----------\n",
    "        row: Series\n",
    "            Row of a DataFrame to which the function is applied.\n",
    "    \n",
    "    Returns\n",
    "    -------\n",
    "    str\n",
    "        String containing the winner of the match or 'Draw' if both teams have\n",
    "        drawn.\n",
    "    \"\"\"\n",
    "    if row.home_goals > row.away_goals:\n",
    "        return row.home_team\n",
    "    elif row.away_goals > row.home_goals:\n",
    "        return row.away_team\n",
    "    else:\n",
    "        return 'Draw'\n",
    "\n",
    "def ex10():\n",
    "    # Read CSV file\n",
    "    matches = pd.read_csv('ma-ba.csv', encoding='ISO-8859-1')\n",
    "    \n",
    "    num_matches = matches.shape[0]\n",
    "    \n",
    "    # Remove extra spaces from column names\n",
    "    matches.columns = [col.strip() for col in matches.columns]\n",
    "    \n",
    "    # Process matches, removing extra spaces and creating an entry of the type 'Team A - Team B'\n",
    "    # All 'R. Madrid' references are corrected\n",
    "    matches['Partidos'] = [\n",
    "        ' '.join(match.replace('Madrid FC', 'R. Madrid').replace('R.Madrid', 'R. Madrid').split())\n",
    "        for match in matches['Partidos']\n",
    "    ]\n",
    "    \n",
    "    matches[['home_team', 'away_team']] = matches['Partidos'].str.split(' - ', expand=True)\n",
    "    matches[['home_goals', 'away_goals']] = matches['resultado'].str.split('-', expand=True).astype(int)\n",
    "    matches['winner'] = matches.apply(get_match_result, axis=1)\n",
    "    \n",
    "    # Get count of how many times each team has won and how many draws there have been\n",
    "    num_entries_results = matches['winner'].value_counts()\n",
    "    \n",
    "    barcelona_wins_loses = [num_entries_results['Barcelona'], num_entries_results['R. Madrid']]\n",
    "    \n",
    "    matches_statistics = pd.DataFrame(\n",
    "        {\n",
    "            'wins': barcelona_wins_loses,\n",
    "            'loses': barcelona_wins_loses[::-1],\n",
    "            'draws': [num_entries_results['Draw'] for _ in range(2)]\n",
    "        }, index=['Barcelona', 'R. Madrid'])\n",
    "    \n",
    "    # We can easily get the % of wins, % of loses and % of draws for each team by dividing\n",
    "    # the wins, loses and draws for each team by the number of matches they have played\n",
    "    # Since these values form a 2x3 ndarray, the result will have the same shape\n",
    "    matches_statistics[['perc_wins', 'perc_loses', 'perc_draws']] = matches_statistics / num_matches\n",
    "    \n",
    "    return matches_statistics"
   ]
  },
  {
   "cell_type": "code",
   "execution_count": 12,
   "metadata": {},
   "outputs": [],
   "source": [
    "n = 11\n",
    "for i in range(1,n):\n",
    "    try:\n",
    "        df = globals()[\"ex\"+str(i)]()\n",
    "        df.to_csv(str(i)+\".csv\",header=False)\n",
    "    except Exception as e: \n",
    "        print(i,repr(e))\n",
    "        open(str(i)+\".csv\",\"a\").close()"
   ]
  }
 ],
 "metadata": {
  "kernelspec": {
   "display_name": "Python 3 (ipykernel)",
   "language": "python",
   "name": "python3"
  },
  "language_info": {
   "codemirror_mode": {
    "name": "ipython",
    "version": 3
   },
   "file_extension": ".py",
   "mimetype": "text/x-python",
   "name": "python",
   "nbconvert_exporter": "python",
   "pygments_lexer": "ipython3",
   "version": "3.8.12"
  }
 },
 "nbformat": 4,
 "nbformat_minor": 1
}
