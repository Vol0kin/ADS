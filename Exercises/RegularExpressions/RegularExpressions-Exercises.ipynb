{
 "cells": [
  {
   "cell_type": "markdown",
   "metadata": {},
   "source": [
    "# Exercices"
   ]
  },
  {
   "cell_type": "markdown",
   "metadata": {},
   "source": [
    "* A regular expression that check most email addresses:"
   ]
  },
  {
   "cell_type": "code",
   "execution_count": 1,
   "metadata": {},
   "outputs": [
    {
     "name": "stdout",
     "output_type": "stream",
     "text": [
      "l-l.l@mail.Aom True\n",
      "testmail.com True\n",
      "test@mail.com. True\n",
      "@testmail.com True\n",
      "test@mailcom True\n"
     ]
    },
    {
     "data": {
      "text/plain": [
       "True"
      ]
     },
     "execution_count": 1,
     "metadata": {},
     "output_type": "execute_result"
    }
   ],
   "source": [
    "import re\n",
    "\n",
    "pattern = r'[\\w\\.-]+@[a-zA-Z]+\\.[a-zA-Z]{2,3}$'\n",
    "\n",
    "str_true = ('l-l.l@mail.Aom',)\n",
    "            \n",
    "str_false = ('testmail.com','test@mail.com.', '@testmail.com', 'test@mailcom')\n",
    "\n",
    "res = True\n",
    "for t in str_true:\n",
    "    f = bool(re.match(pattern, t))\n",
    "    print (t, f == True)\n",
    "    res = res and f == True\n",
    "\n",
    "for t in str_false:\n",
    "    f = bool(re.match(pattern, t))\n",
    "    print (t, f == False)\n",
    "    res = res and f == False\n",
    "res"
   ]
  },
  {
   "cell_type": "markdown",
   "metadata": {},
   "source": [
    "Validates dates in mm/dd/yyyy format. note: Some dates are not verified such as 2080 to be invalid. "
   ]
  },
  {
   "cell_type": "code",
   "execution_count": 2,
   "metadata": {},
   "outputs": [
    {
     "name": "stdout",
     "output_type": "stream",
     "text": [
      "01/08/2014 True\n",
      "12/30/2014 True\n",
      "22/08/2014 True\n",
      "-123 True\n",
      "1/8/2014 True\n",
      "1/08/2014 True\n",
      "01/8/2014 True\n"
     ]
    },
    {
     "data": {
      "text/plain": [
       "True"
      ]
     },
     "execution_count": 2,
     "metadata": {},
     "output_type": "execute_result"
    }
   ],
   "source": [
    "import re\n",
    "\n",
    "pattern = r'(0[1-9]|1[0-2])/(0[1-9]|[1-2]\\d|3[0-1])/\\d{4}'\n",
    "\n",
    "str_true = ('01/08/2014', '12/30/2014', )\n",
    "            \n",
    "str_false = ('22/08/2014', '-123', '1/8/2014', '1/08/2014', '01/8/2014')\n",
    "\n",
    "res = True\n",
    "for t in str_true:\n",
    "    f = bool(re.match(pattern, t))\n",
    "    print (t, f == True)\n",
    "    res = res and f == True\n",
    "\n",
    "for t in str_false:\n",
    "    f = bool(re.match(pattern, t))\n",
    "    print (t, f == False)\n",
    "    res = res and f == False\n",
    "res"
   ]
  },
  {
   "cell_type": "markdown",
   "metadata": {},
   "source": [
    "* 12-Hour format"
   ]
  },
  {
   "cell_type": "code",
   "execution_count": 3,
   "metadata": {},
   "outputs": [
    {
     "name": "stdout",
     "output_type": "stream",
     "text": [
      "2:00pm True\n",
      "7:30 AM True\n",
      "12:05 am True\n",
      "22:00pm True\n",
      "14:00 True\n",
      "3:12 True\n",
      "03:12pm True\n"
     ]
    },
    {
     "data": {
      "text/plain": [
       "True"
      ]
     },
     "execution_count": 3,
     "metadata": {},
     "output_type": "execute_result"
    }
   ],
   "source": [
    "import re\n",
    "\n",
    "# The (?i) at the beginning of the regex is a flag used to tell that\n",
    "# it's case-insensitive\n",
    "pattern = r'(?i)(1[0-2]|[1-9]):[0-5]\\d\\s?(am|pm)'\n",
    "\n",
    "str_true = ('2:00pm', '7:30 AM', '12:05 am', )\n",
    "            \n",
    "str_false = ('22:00pm', '14:00', '3:12', '03:12pm', )\n",
    "\n",
    "res = True\n",
    "for t in str_true:\n",
    "    f = bool(re.match(pattern, t))\n",
    "    print (t, f == True)\n",
    "    res = res and f == True\n",
    "\n",
    "for t in str_false:\n",
    "    f = bool(re.match(pattern, t))\n",
    "    print (t, f == False)\n",
    "    res = res and f == False\n",
    "res"
   ]
  },
  {
   "cell_type": "markdown",
   "metadata": {},
   "source": [
    "* Checking for HTML/XML, etc. tags (a very simple approach)"
   ]
  },
  {
   "cell_type": "code",
   "execution_count": 4,
   "metadata": {},
   "outputs": [
    {
     "name": "stdout",
     "output_type": "stream",
     "text": [
      "<a> True\n",
      "<a href=\"somethinG\"> True\n",
      "</a> True\n",
      "<img src> True\n",
      "a> True\n",
      "<a  True\n",
      "< a > True\n"
     ]
    },
    {
     "data": {
      "text/plain": [
       "True"
      ]
     },
     "execution_count": 4,
     "metadata": {},
     "output_type": "execute_result"
    }
   ],
   "source": [
    "import re\n",
    "\n",
    "# The pattern ( [^<>\\s]+)* is used to detect attributes separated by a single space\n",
    "# For example: <a href=\"#my-ref\" class=\"myClass\">\n",
    "pattern = r'<[a-z]+( [^<>\\s]+)*>|</[a-z]+>'\n",
    "\n",
    "str_true = ('<a>', '<a href=\"somethinG\">', '</a>', '<img src>')\n",
    "            \n",
    "str_false = ('a>', '<a ', '< a >')\n",
    "\n",
    "res = True\n",
    "for t in str_true:\n",
    "    f = bool(re.match(pattern, t))\n",
    "    print (t, f == True)\n",
    "    res = res and f == True\n",
    "\n",
    "for t in str_false:\n",
    "    f = bool(re.match(pattern, t))\n",
    "    print (t, f == False)\n",
    "    res = res and f == False\n",
    "res"
   ]
  }
 ],
 "metadata": {
  "kernelspec": {
   "display_name": "Python 3 (ipykernel)",
   "language": "python",
   "name": "python3"
  },
  "language_info": {
   "codemirror_mode": {
    "name": "ipython",
    "version": 3
   },
   "file_extension": ".py",
   "mimetype": "text/x-python",
   "name": "python",
   "nbconvert_exporter": "python",
   "pygments_lexer": "ipython3",
   "version": "3.8.12"
  }
 },
 "nbformat": 4,
 "nbformat_minor": 1
}
