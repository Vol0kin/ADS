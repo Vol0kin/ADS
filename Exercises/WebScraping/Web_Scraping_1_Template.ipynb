{
 "cells": [
  {
   "cell_type": "markdown",
   "metadata": {},
   "source": [
    "1- **API EXERCISE:** \n",
    "\n",
    "\n",
    "Browse the moviedb API https://developers.themoviedb.org/3/getting-started/introduction and find the top 5 (5 most average_vote) trending movies for the last week (iterate through all the pages).\n",
    "\n",
    "For each movie, create a dictionary with name, release date and average vote, put in a list and show it.\n",
    "\n",
    "Store it in a Collection called Movies in the ADS MongoDB cloud Database"
   ]
  },
  {
   "cell_type": "code",
   "execution_count": 1,
   "metadata": {},
   "outputs": [],
   "source": [
    "import requests\n",
    "import pymongo\n",
    "from typing import Tuple"
   ]
  },
  {
   "cell_type": "code",
   "execution_count": 2,
   "metadata": {},
   "outputs": [],
   "source": [
    "def read_api_key(path: str) -> str:\n",
    "    '''\n",
    "    Function used to read an API key stored in a file.\n",
    "    \n",
    "    Reads the given file and extracts the API key that is stored in it.\n",
    "    \n",
    "    Parameters\n",
    "    ----------\n",
    "        path: str\n",
    "            Path to the file containing the API key.\n",
    "    \n",
    "    Returns\n",
    "    -------\n",
    "        api_key: str\n",
    "            API key read from the given file.\n",
    "    '''\n",
    "    with open(path) as f:\n",
    "        api_key = f.read().strip()\n",
    "    \n",
    "    return api_key\n",
    "\n",
    "def read_credentials(path: str) -> Tuple[str]:\n",
    "    '''\n",
    "    Function used to read the MongoDB Cloud credentials stored in a file.\n",
    "    \n",
    "    Reads the given file and extracts the MongoDB Cloud credentials stored in it.\n",
    "    The following credentials must be stored in the file, each in one line: user name,\n",
    "    password and the cluster's URL.\n",
    "    \n",
    "    Parameters\n",
    "    ----------\n",
    "        path: str\n",
    "            Path to the file containing the API key.\n",
    "    \n",
    "    Returns\n",
    "    -------\n",
    "        name: str\n",
    "            Name of the user that has access to the database.\n",
    "        \n",
    "        password: str\n",
    "            Password of the user that has access to the database.\n",
    "        \n",
    "        url: str\n",
    "            URL used to access the cluster.\n",
    "    '''\n",
    "    with open(path) as f:\n",
    "        name, password, url = f.read().splitlines()\n",
    "    \n",
    "    return name, password, url"
   ]
  },
  {
   "cell_type": "code",
   "execution_count": 3,
   "metadata": {},
   "outputs": [],
   "source": [
    "# Set up initial data\n",
    "url_tmdb = 'https://api.themoviedb.org/3/trending/movie/week'\n",
    "\n",
    "api_key = read_api_key('api_key')\n",
    "page = 1\n",
    "\n",
    "parameters = {'page': page, 'api_key': api_key}\n",
    "\n",
    "response = requests.get(url=url_tmdb, params=parameters)\n",
    "\n",
    "top_5_movies = []"
   ]
  },
  {
   "cell_type": "code",
   "execution_count": 4,
   "metadata": {},
   "outputs": [],
   "source": [
    "# The walrus operator (:=) evaluates the expression and assigns the result\n",
    "# to the variable. Also, the condition is checked!\n",
    "while response := requests.get(url=url_tmdb, params=parameters):\n",
    "    # Get response as JSON and access to the movies\n",
    "    json_response = response.json()\n",
    "    movies_response = json_response['results']\n",
    "    \n",
    "    # Filter movies and remove the ones that don't have the vote_average, release_date\n",
    "    # and title fields\n",
    "    filtered_movies_list = list(filter(lambda m: 'vote_average' in m and 'release_date' in m and 'title' in m, movies_response))\n",
    "    \n",
    "    \n",
    "    # Get new Top 5 movies by merging both lists and sorting them by the vote_average\n",
    "    # The films that have the same score will then be sorted by release date\n",
    "    # The new list must be reversed so that the films with higher average scores, and among\n",
    "    # them, the most recent ones, appear at the top\n",
    "    merged_movies = top_5_movies + filtered_movies_list\n",
    "    top_5_movies = sorted(merged_movies, key=lambda m: (m['vote_average'], m['release_date']), reverse=True)\n",
    "    top_5_movies = top_5_movies[:5]\n",
    "    \n",
    "    # Update parameters so next page is fetched in the next iteration\n",
    "    page += 1\n",
    "    parameters['page'] = page"
   ]
  },
  {
   "cell_type": "code",
   "execution_count": 5,
   "metadata": {},
   "outputs": [
    {
     "name": "stdout",
     "output_type": "stream",
     "text": [
      "[{'title': 'Dark Tales From Channel X', 'release_date': '2021-10-02', 'vote_average': 10.0}, {'title': 'The Survivalist', 'release_date': '2021-10-01', 'vote_average': 10.0}, {'title': 'Witch Hunt', 'release_date': '2021-10-01', 'vote_average': 10.0}, {'title': 'My Struggle', 'release_date': '2021-09-24', 'vote_average': 10.0}, {'title': 'The Zone', 'release_date': '2021-09-20', 'vote_average': 10.0}]\n"
     ]
    }
   ],
   "source": [
    "# Get only relevant information of the top 5 movies\n",
    "keys = ('title', 'release_date', 'vote_average')\n",
    "\n",
    "top_5_movies = list(map(lambda m: {k: m[k] for k in keys}, top_5_movies))\n",
    "print(top_5_movies)"
   ]
  },
  {
   "cell_type": "code",
   "execution_count": 6,
   "metadata": {},
   "outputs": [],
   "source": [
    "# Get MongoDB credentials\n",
    "name, password, url = read_credentials('credentials.txt')"
   ]
  },
  {
   "cell_type": "code",
   "execution_count": 7,
   "metadata": {},
   "outputs": [
    {
     "name": "stdout",
     "output_type": "stream",
     "text": [
      "Connecting to MongoDB Cloud...\n",
      "Successfully connected to MongoDB Cloud!\n"
     ]
    }
   ],
   "source": [
    "# Connect to MongoDB Cloud and close existing connection if the user\n",
    "# is already connected\n",
    "try:\n",
    "    if 'client' in globals():\n",
    "        print('Closing existing MongoDB Cloud connection...')\n",
    "        client.close()\n",
    "        print('Successfully closed previous MongoDB Cloud connection!')\n",
    "    \n",
    "    print('Connecting to MongoDB Cloud...')\n",
    "    client = pymongo.MongoClient(f'mongodb+srv://{name}:{password}@{url}')\n",
    "    print('Successfully connected to MongoDB Cloud!')\n",
    "except pymongo.errors.ConnectionFailure as e:\n",
    "    print(f'Could not connect to MongoDB Cloud: {e}')"
   ]
  },
  {
   "cell_type": "code",
   "execution_count": 8,
   "metadata": {},
   "outputs": [
    {
     "data": {
      "text/plain": [
       "<pymongo.results.InsertManyResult at 0x7fa2144f3280>"
      ]
     },
     "execution_count": 8,
     "metadata": {},
     "output_type": "execute_result"
    }
   ],
   "source": [
    "db = client['ADS']\n",
    "collection = db['Movies']\n",
    "\n",
    "# Drop collection if it already exists (this lines can be commented)\n",
    "if collection.count_documents({}) > 0:\n",
    "    collection.drop()\n",
    "\n",
    "# Save information\n",
    "collection.insert_many(top_5_movies)"
   ]
  },
  {
   "cell_type": "code",
   "execution_count": 9,
   "metadata": {
    "scrolled": true
   },
   "outputs": [
    {
     "name": "stdout",
     "output_type": "stream",
     "text": [
      "{'_id': ObjectId('615e3602ec9ebda3350eb4b5'), 'title': 'Dark Tales From Channel X', 'release_date': '2021-10-02', 'vote_average': 10.0}\n",
      "{'_id': ObjectId('615e3602ec9ebda3350eb4b6'), 'title': 'The Survivalist', 'release_date': '2021-10-01', 'vote_average': 10.0}\n",
      "{'_id': ObjectId('615e3602ec9ebda3350eb4b7'), 'title': 'Witch Hunt', 'release_date': '2021-10-01', 'vote_average': 10.0}\n",
      "{'_id': ObjectId('615e3602ec9ebda3350eb4b8'), 'title': 'My Struggle', 'release_date': '2021-09-24', 'vote_average': 10.0}\n",
      "{'_id': ObjectId('615e3602ec9ebda3350eb4b9'), 'title': 'The Zone', 'release_date': '2021-09-20', 'vote_average': 10.0}\n"
     ]
    }
   ],
   "source": [
    "# Check if information has been saved\n",
    "for doc in collection.find():\n",
    "    print(doc)"
   ]
  },
  {
   "cell_type": "code",
   "execution_count": 10,
   "metadata": {},
   "outputs": [],
   "source": [
    "# Close connection\n",
    "client.close()"
   ]
  }
 ],
 "metadata": {
  "kernelspec": {
   "display_name": "Python 3 (ipykernel)",
   "language": "python",
   "name": "python3"
  },
  "language_info": {
   "codemirror_mode": {
    "name": "ipython",
    "version": 3
   },
   "file_extension": ".py",
   "mimetype": "text/x-python",
   "name": "python",
   "nbconvert_exporter": "python",
   "pygments_lexer": "ipython3",
   "version": "3.8.12"
  }
 },
 "nbformat": 4,
 "nbformat_minor": 2
}
