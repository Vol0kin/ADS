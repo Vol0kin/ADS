{
 "cells": [
  {
   "cell_type": "markdown",
   "metadata": {},
   "source": [
    "**Selenium EXERCISE 1:** <BR>\n",
    "<ul>\n",
    "<li> Open a browser \n",
    "\n",
    "<li>Go to tripadvisor/Restaurants\n",
    "\n",
    "<li>Find the search text box\n",
    "\n",
    "<li>Clear it, input the query \"Sant Cugat\" and send it\n",
    "\n",
    "<li>Go to \"Restarurants\" and get all the links and names of top 10 restaurants in Sant cugat\n",
    "<li> Store them in a list of Dictionaries {name,links}\n",
    "</ul>\n"
   ]
  },
  {
   "cell_type": "code",
   "execution_count": 1,
   "metadata": {},
   "outputs": [],
   "source": [
    "from selenium import webdriver\n",
    "from selenium.webdriver.common.by import By\n",
    "from selenium.webdriver.support.ui import WebDriverWait\n",
    "from selenium.webdriver.support import expected_conditions as EC\n",
    "from selenium.common.exceptions import TimeoutException"
   ]
  },
  {
   "cell_type": "code",
   "execution_count": 2,
   "metadata": {},
   "outputs": [],
   "source": [
    "# Open browser using Chrome driver\n",
    "driver = webdriver.Chrome('./chromedriver')"
   ]
  },
  {
   "cell_type": "code",
   "execution_count": 3,
   "metadata": {
    "scrolled": false
   },
   "outputs": [],
   "source": [
    "# Open url\n",
    "tripadvisor_url = 'https://www.tripadvisor.com/Restaurants'\n",
    "\n",
    "driver.get(tripadvisor_url)"
   ]
  },
  {
   "cell_type": "code",
   "execution_count": 4,
   "metadata": {},
   "outputs": [
    {
     "name": "stdout",
     "output_type": "stream",
     "text": [
      "Cookies accepted\n"
     ]
    }
   ],
   "source": [
    "# Close cookies warning\n",
    "try:\n",
    "    # Wait for 'Okay' button to show. This happens only once per\n",
    "    # driver session, so it might've been closed beforehand\n",
    "    ok_button = WebDriverWait(driver, 5).until(\n",
    "        EC.presence_of_element_located((By.XPATH, '//*[@id=\"_evidon-accept-button\"]'))\n",
    "    )\n",
    "    \n",
    "    ok_button.click()\n",
    "    print('Cookies accepted')\n",
    "except TimeoutException as e:\n",
    "    print(e)"
   ]
  },
  {
   "cell_type": "code",
   "execution_count": 5,
   "metadata": {},
   "outputs": [],
   "source": [
    "search_text = 'Sant Cugat'\n",
    "\n",
    "# Get search bar\n",
    "search_bar = driver.find_element_by_xpath(\n",
    "    '//*[@id=\"component_6\"]/div/div/form/input[1]'\n",
    ")\n",
    "\n",
    "# Write 'Sant Cugat' in the search bar (clear it before in case\n",
    "# there was something written before)\n",
    "search_bar.clear()\n",
    "search_bar.send_keys(search_text)"
   ]
  },
  {
   "cell_type": "code",
   "execution_count": 6,
   "metadata": {},
   "outputs": [
    {
     "name": "stdout",
     "output_type": "stream",
     "text": [
      "Searching for best restaurants in Sant Cugat...\n"
     ]
    }
   ],
   "source": [
    "# Click on first option\n",
    "try:\n",
    "    # Wait for first option to contain 'Sant Cugat'. Otherwise, 'Nearby' would be selected\n",
    "    WebDriverWait(driver, 5).until(\n",
    "        EC.text_to_be_present_in_element((By.XPATH, '//*[@id=\"typeahead_results\"]/a[1]'), search_text)\n",
    "    )\n",
    "    \n",
    "    # Click on 'Sant Cugat' option\n",
    "    sant_cugat = driver.find_element_by_xpath('//*[@id=\"typeahead_results\"]/a[1]')\n",
    "    sant_cugat.click()\n",
    "    print('Searching for best restaurants in Sant Cugat...')\n",
    "except TimeoutException as e:\n",
    "    print(e)"
   ]
  },
  {
   "cell_type": "code",
   "execution_count": 7,
   "metadata": {},
   "outputs": [],
   "source": [
    "# Get top restaurants\n",
    "# The xpath expression gets the <a> descendant of all div's whose data-test\n",
    "# attribute contains '_list_item'\n",
    "restaurants = driver.find_elements_by_xpath(\n",
    "    '//*[@id=\"component_2\"]//div[contains(@data-test, \"_list_item\")]/span/div[1]/div[2]/div[1]/div/span/a'\n",
    ")"
   ]
  },
  {
   "cell_type": "code",
   "execution_count": 8,
   "metadata": {},
   "outputs": [
    {
     "name": "stdout",
     "output_type": "stream",
     "text": [
      "Top 10 restaurants in Sant Cugat\n",
      "1. Piaceri D’ Italia Ristorante Pizzeria\n",
      "https://www.tripadvisor.com/Restaurant_Review-g1080422-d19084243-Reviews-Piaceri_D_Italia_Ristorante_Pizzeria-Sant_Cugat_del_Valles_Catalonia.html\n",
      "2. Restaurant Brau\n",
      "https://www.tripadvisor.com/Restaurant_Review-g1080422-d10195584-Reviews-Restaurant_Brau-Sant_Cugat_del_Valles_Catalonia.html\n",
      "3. Sabatic\n",
      "https://www.tripadvisor.com/Restaurant_Review-g1080422-d10167691-Reviews-Sabatic-Sant_Cugat_del_Valles_Catalonia.html\n",
      "4. Nemesis\n",
      "https://www.tripadvisor.com/Restaurant_Review-g1080422-d11892809-Reviews-Nemesis-Sant_Cugat_del_Valles_Catalonia.html\n",
      "5. Dakidaya\n",
      "https://www.tripadvisor.com/Restaurant_Review-g1080422-d4546707-Reviews-Dakidaya-Sant_Cugat_del_Valles_Catalonia.html\n",
      "6. 9Reinas Sant Cugat\n",
      "https://www.tripadvisor.com/Restaurant_Review-g1080422-d7155184-Reviews-9Reinas_Sant_Cugat-Sant_Cugat_del_Valles_Catalonia.html\n",
      "7. Kitsune Sushi Bar\n",
      "https://www.tripadvisor.com/Restaurant_Review-g1080422-d5966644-Reviews-Kitsune_Sushi_Bar-Sant_Cugat_del_Valles_Catalonia.html\n",
      "8. La Rampa 23\n",
      "https://www.tripadvisor.com/Restaurant_Review-g1080422-d4043880-Reviews-La_Rampa_23-Sant_Cugat_del_Valles_Catalonia.html\n",
      "9. La Rita\n",
      "https://www.tripadvisor.com/Restaurant_Review-g1080422-d10365477-Reviews-La_Rita-Sant_Cugat_del_Valles_Catalonia.html\n",
      "10. El Vi de Deu\n",
      "https://www.tripadvisor.com/Restaurant_Review-g1080422-d7076969-Reviews-El_Vi_de_Deu-Sant_Cugat_del_Valles_Catalonia.html\n"
     ]
    }
   ],
   "source": [
    "# Get top 10 restaurants\n",
    "top_restaurants = [{'name': restaurants[i].text, 'link': restaurants[i].get_attribute('href')} for i in range(10)]\n",
    "\n",
    "print(f'Top 10 restaurants in {search_text}')\n",
    "\n",
    "for restaurant in top_restaurants:\n",
    "    print(restaurant['name'])\n",
    "    print(restaurant['link'])"
   ]
  },
  {
   "cell_type": "code",
   "execution_count": 9,
   "metadata": {},
   "outputs": [],
   "source": [
    "# Close browser\n",
    "driver.quit()"
   ]
  },
  {
   "cell_type": "markdown",
   "metadata": {},
   "source": [
    "**Selenium EXERCISE 2:**"
   ]
  },
  {
   "cell_type": "markdown",
   "metadata": {},
   "source": [
    "* Go to Eix Macià Cinemes web Site. ('http://www.cinemeseixmacia.com/')\n",
    "* Find all the movies that are currently playing in the Cinema.\n",
    "* Filter those movies that starts from at specific time (i.e. 18PM) to 1h and half later and are recomended for a specific age audience (i.e 18 y.o).\n",
    "* Search in themoviedb the average ratings for those movies and select the best one. \n",
    "* Play the movie trailer."
   ]
  },
  {
   "cell_type": "code",
   "execution_count": 10,
   "metadata": {},
   "outputs": [],
   "source": [
    "import requests\n",
    "import re"
   ]
  },
  {
   "cell_type": "code",
   "execution_count": 11,
   "metadata": {},
   "outputs": [],
   "source": [
    "# Open browser using Chrome driver\n",
    "driver = webdriver.Chrome('./chromedriver')"
   ]
  },
  {
   "cell_type": "code",
   "execution_count": 12,
   "metadata": {},
   "outputs": [],
   "source": [
    "# Open url\n",
    "macia_url = 'http://www.cinemeseixmacia.com'\n",
    "\n",
    "driver.get(macia_url)"
   ]
  },
  {
   "cell_type": "code",
   "execution_count": 13,
   "metadata": {},
   "outputs": [
    {
     "name": "stdout",
     "output_type": "stream",
     "text": [
      "Retrieved 11 movies\n"
     ]
    }
   ],
   "source": [
    "# Get list of movie elements\n",
    "movies = driver.find_elements_by_xpath('//*[@id=\"rt-mainbody\"]/div/div[3]/div[contains(@class, \"peli-item\")]')\n",
    "\n",
    "print(f'Retrieved {len(movies)} movies')"
   ]
  },
  {
   "cell_type": "code",
   "execution_count": 14,
   "metadata": {},
   "outputs": [
    {
     "name": "stdout",
     "output_type": "stream",
     "text": [
      "ATMOS VENOM: HABRA MATANZA ['16:00', '18:00', '20:15', '22:30'] Age: 12\n",
      "DUNE ['16:00', '19:00', '22:00'] Age: 12\n",
      "EL BUEN PATRON ['16:00', '19:00', '22:00'] Age: 12\n",
      "LA FAMILIA ADDAMS 2 - LA GRAN ESCAPADA ['16:00', '18:15', '20:30'] Age: 0\n",
      "LA PATRULLA CANINA:LA PELICULA ['16:00', '18:00'] Age: 0\n",
      "LAS LEYES DE LA FRONTERA ['22:00'] Age: 16\n",
      "MADRES PARALELAS ['16:00', '19:00', '22:00'] Age: 12\n",
      "NO RESPIRES 2 ['22:45'] Age: 16\n",
      "SIN TIEMPO PARA MORIR ['16:00', '18:15', '20:30', '22:00'] Age: 12\n",
      "VENOM: HABRA MATANZA ['17:00', '19:00'] Age: 12\n",
      "¿QUIÉN ES QUIÉN? ['20:15', '22:30'] Age: 7\n"
     ]
    }
   ],
   "source": [
    "# NOTE 1: When using XPaths, the '.' character at the beggining means that\n",
    "# the search has to be relative to the current node reference (which in the\n",
    "# loops is the node containing one of the movies)\n",
    "\n",
    "# NOTE 2: To get the text of the elements the get_attribute('textContent') method\n",
    "# has been used since .text didn't work\n",
    "\n",
    "# Get movie titles\n",
    "movie_titles = [\n",
    "    movie.find_element_by_xpath('.//div/div[2]/div/a/h4').get_attribute('textContent')\n",
    "    for movie in movies\n",
    "]\n",
    "\n",
    "# Get timetables for each movie\n",
    "movie_times = [\n",
    "    [\n",
    "        time.get_attribute('textContent').strip()\n",
    "        for time in movie.find_elements_by_xpath('.//*[contains(@class, \"horasessio\")]/a/button')\n",
    "    ]\n",
    "    for movie in movies\n",
    "]\n",
    "\n",
    "# Get age ratings\n",
    "movie_ages = [\n",
    "    movie.find_element_by_xpath('.//*[@id=\"dadespeli\"]/p[2]/span').get_attribute('textContent')\n",
    "    for movie in movies\n",
    "]\n",
    "\n",
    "# Transform age ratings to numerical values\n",
    "movie_ages = list(map(lambda age: int(age_match[0]) if (age_match := re.match(r'\\d{1,2}', age)) else 0, movie_ages))\n",
    "\n",
    "# Generate billboard. Save reference to DOM element for further processing\n",
    "billboard = [\n",
    "    {'title': title, 'times': times, 'age': age, 'ref': element}\n",
    "    for title, times, age, element in zip(movie_titles, movie_times, movie_ages, movies)\n",
    "]\n",
    "\n",
    "for movie in billboard:\n",
    "    print(f\"{movie['title']} {movie['times']} Age: {movie['age']}\")"
   ]
  },
  {
   "cell_type": "code",
   "execution_count": 15,
   "metadata": {},
   "outputs": [
    {
     "name": "stdout",
     "output_type": "stream",
     "text": [
      "User is 18 years old and can watch a movie between 18:00 and 19:30\n"
     ]
    }
   ],
   "source": [
    "def generate_preferred_times(time):\n",
    "    '''\n",
    "    Function used to generate the preffered times by the users in which they\n",
    "    can watch a movie.\n",
    "    \n",
    "    Given an initial time, it computes a new time, which is 1:30 hours after\n",
    "    the first one. With these two times, it creates a range of hours in which\n",
    "    the user can watch a movie.\n",
    "    \n",
    "    Parameters\n",
    "    ----------\n",
    "        time: str\n",
    "            Initial time in which the user can watch a movie.\n",
    "    \n",
    "    Returns\n",
    "    -------\n",
    "        preferred_times: [str, str]\n",
    "            List containing the preferred times by the user. The first\n",
    "            element is the initial time. The second one is 1:30 hours later.\n",
    "    '''\n",
    "    time_hours, time_minutes = tuple(map(lambda t: int(t), time.split(':')))\n",
    "    \n",
    "    margin_minutes = (time_minutes + 30) % 60\n",
    "    margin_hours = (time_hours + 1 + (time_minutes + 30) // 60) % 24\n",
    "\n",
    "    # ljust to fill string with an additional 0 in case the minutes are 0\n",
    "    preferred_times = [time, f\"{margin_hours}:{str(margin_minutes).ljust(2, '0')}\"]\n",
    "    \n",
    "    return preferred_times\n",
    "\n",
    "# User data\n",
    "age = 18\n",
    "time = '18:00'\n",
    "preferred_times = generate_preferred_times(time)\n",
    "\n",
    "print(f'User is {age} years old and can watch a movie between {preferred_times[0]} and {preferred_times[1]}')"
   ]
  },
  {
   "cell_type": "code",
   "execution_count": 16,
   "metadata": {},
   "outputs": [
    {
     "name": "stdout",
     "output_type": "stream",
     "text": [
      "ATMOS VENOM: HABRA MATANZA ['16:00', '18:00', '20:15', '22:30'] Age: 12\n",
      "DUNE ['16:00', '19:00', '22:00'] Age: 12\n",
      "EL BUEN PATRON ['16:00', '19:00', '22:00'] Age: 12\n",
      "LA FAMILIA ADDAMS 2 - LA GRAN ESCAPADA ['16:00', '18:15', '20:30'] Age: 0\n",
      "LA PATRULLA CANINA:LA PELICULA ['16:00', '18:00'] Age: 0\n",
      "MADRES PARALELAS ['16:00', '19:00', '22:00'] Age: 12\n",
      "SIN TIEMPO PARA MORIR ['16:00', '18:15', '20:30', '22:00'] Age: 12\n",
      "VENOM: HABRA MATANZA ['17:00', '19:00'] Age: 12\n"
     ]
    }
   ],
   "source": [
    "def filter_movie(movie, age, preferred_times):\n",
    "    '''\n",
    "    Function used to filter movies out of the billboard.\n",
    "    \n",
    "    Checks if a given movie satsfices the age and time restrictions\n",
    "    imposed by the user.\n",
    "    \n",
    "    Parameters\n",
    "    ----------\n",
    "        movie: dict\n",
    "            Dictionary containing information about the movie.\n",
    "        age: int\n",
    "            Age of the user.\n",
    "        preferred_times: [str, str]\n",
    "            List containing the preferred times by the user. These are the\n",
    "            times when the user can watch a movie.\n",
    "    \n",
    "    Returns\n",
    "    -------\n",
    "        bool\n",
    "            True if all requirements are satisfied and False otherwise.\n",
    "    '''\n",
    "    if age < movie['age']:\n",
    "        return False\n",
    "    \n",
    "    for time in movie['times']:\n",
    "        if time >= preferred_times[0] and time <= preferred_times[1]:\n",
    "            return True\n",
    "    \n",
    "    return False\n",
    "\n",
    "# Filter those movies and select those that the user can watch\n",
    "filtered_billboard = list(filter(lambda m: filter_movie(m, age, preferred_times), billboard))\n",
    "\n",
    "for movie in filtered_billboard:\n",
    "    print(f\"{movie['title']} {movie['times']} Age: {movie['age']}\")"
   ]
  },
  {
   "cell_type": "code",
   "execution_count": 17,
   "metadata": {},
   "outputs": [
    {
     "name": "stdout",
     "output_type": "stream",
     "text": [
      "ATMOS VENOM: HABRA MATANZA ['16:00', '18:00', '20:15', '22:30'] Age: 12  Average user score: 0\n",
      "DUNE ['16:00', '19:00', '22:00'] Age: 12  Average user score: 8.1\n",
      "EL BUEN PATRON ['16:00', '19:00', '22:00'] Age: 12  Average user score: 0\n",
      "LA FAMILIA ADDAMS 2 - LA GRAN ESCAPADA ['16:00', '18:15', '20:30'] Age: 0  Average user score: 7.7\n",
      "LA PATRULLA CANINA:LA PELICULA ['16:00', '18:00'] Age: 0  Average user score: 0\n",
      "MADRES PARALELAS ['16:00', '19:00', '22:00'] Age: 12  Average user score: 6.6\n",
      "SIN TIEMPO PARA MORIR ['16:00', '18:15', '20:30', '22:00'] Age: 12  Average user score: 7.3\n",
      "VENOM: HABRA MATANZA ['17:00', '19:00'] Age: 12  Average user score: 7.2\n"
     ]
    }
   ],
   "source": [
    "# Read API key\n",
    "with open('api_key') as f:\n",
    "    api_key = f.read().strip()\n",
    "\n",
    "tmdb_url = 'https://api.themoviedb.org/3/search/movie'\n",
    "params = {'page': 1, 'api_key': api_key, 'region': 'ES', 'language': 'es-ES'}\n",
    "\n",
    "# Fetch data from API to get movie scores\n",
    "for movie in filtered_billboard:\n",
    "    # Update params. Remove the VOSE substring as no results are returned when it's included\n",
    "    params['query'] = movie['title'].replace('VOSE ', '')\n",
    "    \n",
    "    response = requests.get(tmdb_url, params=params)\n",
    "    results = response.json()['results']\n",
    "    \n",
    "    # Get score from the first result or give it a 0 score if the response is empty\n",
    "    movie['score'] = results[0]['vote_average'] if results else 0\n",
    "\n",
    "for movie in filtered_billboard:\n",
    "    print(f\"{movie['title']} {movie['times']} Age: {movie['age']}  Average user score: {movie['score']}\")"
   ]
  },
  {
   "cell_type": "code",
   "execution_count": 18,
   "metadata": {},
   "outputs": [
    {
     "name": "stdout",
     "output_type": "stream",
     "text": [
      "Movie with highest score: DUNE ['16:00', '19:00', '22:00'] Age: 12 Average user score: 8.1\n"
     ]
    }
   ],
   "source": [
    "# Find movie with highest score\n",
    "best_movie = max(filtered_billboard, key=lambda x: x['score'])\n",
    "\n",
    "print(f\"Movie with highest score: {best_movie['title']} {best_movie['times']} Age: {best_movie['age']} Average user score: {best_movie['score']}\")"
   ]
  },
  {
   "cell_type": "code",
   "execution_count": 19,
   "metadata": {},
   "outputs": [],
   "source": [
    "# Get button to open trailer and perform actions to click on it\n",
    "trailer_button = best_movie['ref'].find_element_by_xpath('.//div[contains(@class, \"peli-botons\")]/a[1]/button')\n",
    "\n",
    "webdriver.ActionChains(driver).move_to_element(best_movie['ref']).click(trailer_button).perform()"
   ]
  },
  {
   "cell_type": "code",
   "execution_count": 20,
   "metadata": {},
   "outputs": [],
   "source": [
    "# Switch to iframe. This is necessary to play the video\n",
    "driver.switch_to.frame(driver.find_element_by_xpath('/html/body/div[5]/div/div/div/div/iframe'))\n",
    "\n",
    "try:\n",
    "    play_button = WebDriverWait(driver, 5).until(\n",
    "        EC.element_to_be_clickable((By.XPATH,'//*[@id=\"movie_player\"]/div[4]/button'))\n",
    "    )\n",
    "        \n",
    "    play_button.click()\n",
    "except TimeoutException as e:\n",
    "    print(e)"
   ]
  }
 ],
 "metadata": {
  "kernelspec": {
   "display_name": "Python 3 (ipykernel)",
   "language": "python",
   "name": "python3"
  },
  "language_info": {
   "codemirror_mode": {
    "name": "ipython",
    "version": 3
   },
   "file_extension": ".py",
   "mimetype": "text/x-python",
   "name": "python",
   "nbconvert_exporter": "python",
   "pygments_lexer": "ipython3",
   "version": "3.8.12"
  }
 },
 "nbformat": 4,
 "nbformat_minor": 2
}
