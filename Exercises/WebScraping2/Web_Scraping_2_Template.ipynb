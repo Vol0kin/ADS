{
 "cells": [
  {
   "cell_type": "markdown",
   "metadata": {},
   "source": [
    "**Selenium EXERCISE 1:** <BR>\n",
    "<ul>\n",
    "<li> Open a browser \n",
    "\n",
    "<li>Go to tripadvisor/Restaurants\n",
    "\n",
    "<li>Find the search text box\n",
    "\n",
    "<li>Clear it, input the query \"Sant Cugat\" and send it\n",
    "\n",
    "<li>Go to \"Restarurants\" and get all the links and names of top 10 restaurants in Sant cugat\n",
    "<li> Store them in a list of Dictionaries {name,links}\n",
    "</ul>\n"
   ]
  },
  {
   "cell_type": "code",
   "execution_count": 1,
   "metadata": {},
   "outputs": [],
   "source": [
    "from selenium import webdriver\n",
    "from selenium.webdriver.common.by import By\n",
    "from selenium.webdriver.support.ui import WebDriverWait\n",
    "from selenium.webdriver.support import expected_conditions as EC\n",
    "from selenium.common.exceptions import TimeoutException\n",
    "from selenium.webdriver.common.keys import Keys"
   ]
  },
  {
   "cell_type": "code",
   "execution_count": 2,
   "metadata": {},
   "outputs": [],
   "source": [
    "# Open browser using Chrome driver\n",
    "driver = webdriver.Chrome('./chromedriver')"
   ]
  },
  {
   "cell_type": "code",
   "execution_count": 3,
   "metadata": {
    "scrolled": false
   },
   "outputs": [],
   "source": [
    "# Open url\n",
    "tripadvisor_url = 'https://www.tripadvisor.com/Restaurants'\n",
    "\n",
    "driver.get(tripadvisor_url)"
   ]
  },
  {
   "cell_type": "code",
   "execution_count": 4,
   "metadata": {},
   "outputs": [],
   "source": [
    "# Close cookies warning\n",
    "try:\n",
    "    # Wait for 'Okay' button to show. This happens only once per\n",
    "    # driver session, so it might've been closed beforehand\n",
    "    ok_button = WebDriverWait(driver, 5).until(\n",
    "        EC.presence_of_element_located((By.XPATH, '//*[@id=\"_evidon-accept-button\"]'))\n",
    "    )\n",
    "    \n",
    "    ok_button.click()\n",
    "except TimeoutException as e:\n",
    "    print(e)"
   ]
  },
  {
   "cell_type": "code",
   "execution_count": 5,
   "metadata": {},
   "outputs": [],
   "source": [
    "search_text = 'Sant Cugat'\n",
    "\n",
    "# Get search bar\n",
    "search_bar = driver.find_element_by_xpath(\n",
    "    '//*[@id=\"component_6\"]/div/div/form/input[1]'\n",
    ")\n",
    "\n",
    "# Write 'Sant Cugat' in the search bar (clear it before in case\n",
    "# there was something written before)\n",
    "search_bar.clear()\n",
    "search_bar.send_keys(search_text)"
   ]
  },
  {
   "cell_type": "code",
   "execution_count": 6,
   "metadata": {},
   "outputs": [],
   "source": [
    "# Click on first option\n",
    "try:\n",
    "    # Wait for first option to contain 'Sant Cugat'. Otherwise, 'Nearby is selected taken'\n",
    "    WebDriverWait(driver, 5).until(\n",
    "        EC.text_to_be_present_in_element((By.XPATH, '//*[@id=\"typeahead_results\"]/a[1]'), search_text)\n",
    "    )\n",
    "    \n",
    "    # Click on 'Sant Cugat' option\n",
    "    sant_cugat = driver.find_element_by_xpath('//*[@id=\"typeahead_results\"]/a[1]')\n",
    "    sant_cugat.click()\n",
    "except TimeoutException as e:\n",
    "    print(e)"
   ]
  },
  {
   "cell_type": "code",
   "execution_count": 7,
   "metadata": {},
   "outputs": [],
   "source": [
    "# Get top restaurants\n",
    "# The xpath expression gets the <a> descendant of all div's whose data-test\n",
    "# attribute contains '_list_item'\n",
    "restaurants = driver.find_elements_by_xpath(\n",
    "    '//*[@id=\"component_2\"]//div[contains(@data-test, \"_list_item\")]/span/div[1]/div[2]/div[1]/div/span/a'\n",
    ")"
   ]
  },
  {
   "cell_type": "code",
   "execution_count": 8,
   "metadata": {},
   "outputs": [
    {
     "name": "stdout",
     "output_type": "stream",
     "text": [
      "1. Piaceri D’ Italia Ristorante Pizzeria\n",
      "https://www.tripadvisor.com/Restaurant_Review-g1080422-d19084243-Reviews-Piaceri_D_Italia_Ristorante_Pizzeria-Sant_Cugat_del_Valles_Catalonia.html\n",
      "2. Restaurant Brau\n",
      "https://www.tripadvisor.com/Restaurant_Review-g1080422-d10195584-Reviews-Restaurant_Brau-Sant_Cugat_del_Valles_Catalonia.html\n",
      "3. Sabatic\n",
      "https://www.tripadvisor.com/Restaurant_Review-g1080422-d10167691-Reviews-Sabatic-Sant_Cugat_del_Valles_Catalonia.html\n",
      "4. Nemesis\n",
      "https://www.tripadvisor.com/Restaurant_Review-g1080422-d11892809-Reviews-Nemesis-Sant_Cugat_del_Valles_Catalonia.html\n",
      "5. Dakidaya\n",
      "https://www.tripadvisor.com/Restaurant_Review-g1080422-d4546707-Reviews-Dakidaya-Sant_Cugat_del_Valles_Catalonia.html\n",
      "6. 9Reinas Sant Cugat\n",
      "https://www.tripadvisor.com/Restaurant_Review-g1080422-d7155184-Reviews-9Reinas_Sant_Cugat-Sant_Cugat_del_Valles_Catalonia.html\n",
      "7. Kitsune Sushi Bar\n",
      "https://www.tripadvisor.com/Restaurant_Review-g1080422-d5966644-Reviews-Kitsune_Sushi_Bar-Sant_Cugat_del_Valles_Catalonia.html\n",
      "8. La Rampa 23\n",
      "https://www.tripadvisor.com/Restaurant_Review-g1080422-d4043880-Reviews-La_Rampa_23-Sant_Cugat_del_Valles_Catalonia.html\n",
      "9. La Rita\n",
      "https://www.tripadvisor.com/Restaurant_Review-g1080422-d10365477-Reviews-La_Rita-Sant_Cugat_del_Valles_Catalonia.html\n",
      "10. El Vi de Deu\n",
      "https://www.tripadvisor.com/Restaurant_Review-g1080422-d7076969-Reviews-El_Vi_de_Deu-Sant_Cugat_del_Valles_Catalonia.html\n"
     ]
    }
   ],
   "source": [
    "# Get top 10 restaurants\n",
    "top_restaurants = {restaurants[i].text: restaurants[i].get_attribute('href') for i in range(10)}\n",
    "\n",
    "for res, link in top_restaurants.items():\n",
    "    print(f'{res}\\n{link}')"
   ]
  },
  {
   "cell_type": "code",
   "execution_count": 9,
   "metadata": {},
   "outputs": [],
   "source": [
    "# Close browser\n",
    "driver.quit()"
   ]
  },
  {
   "cell_type": "markdown",
   "metadata": {},
   "source": [
    "**Selenium EXERCISE 2:**"
   ]
  },
  {
   "cell_type": "markdown",
   "metadata": {},
   "source": [
    "* Go to Eix Macià Cinemes web Site. ('http://www.cinemeseixmacia.com/')\n",
    "* Find all the movies that are currently playing in the Cinema.\n",
    "* Filter those movies that starts from at specific time (i.e. 18PM) to 1h and half later and are recomended for a specific age audience (i.e 18 y.o).\n",
    "* Search in themoviedb the average ratings for those movies and select the best one. \n",
    "* Play the movie trailer."
   ]
  }
 ],
 "metadata": {
  "kernelspec": {
   "display_name": "Python 3 (ipykernel)",
   "language": "python",
   "name": "python3"
  },
  "language_info": {
   "codemirror_mode": {
    "name": "ipython",
    "version": 3
   },
   "file_extension": ".py",
   "mimetype": "text/x-python",
   "name": "python",
   "nbconvert_exporter": "python",
   "pygments_lexer": "ipython3",
   "version": "3.8.12"
  }
 },
 "nbformat": 4,
 "nbformat_minor": 2
}
