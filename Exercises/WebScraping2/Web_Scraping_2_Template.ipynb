{
 "cells": [
  {
   "cell_type": "markdown",
   "metadata": {},
   "source": [
    "**Selenium EXERCISE 1:** <BR>\n",
    "<ul>\n",
    "<li> Open a browser \n",
    "\n",
    "<li>Go to tripadvisor/Restaurants\n",
    "\n",
    "<li>Find the search text box\n",
    "\n",
    "<li>Clear it, input the query \"Sant Cugat\" and send it\n",
    "\n",
    "<li>Go to \"Restarurants\" and get all the links and names of top 10 restaurants in Sant cugat\n",
    "<li> Store them in a list of Dictionaries {name,links}\n",
    "</ul>\n"
   ]
  },
  {
   "cell_type": "code",
   "execution_count": null,
   "metadata": {},
   "outputs": [],
   "source": []
  },
  {
   "cell_type": "markdown",
   "metadata": {},
   "source": [
    "**Selenium EXERCISE 2:**"
   ]
  },
  {
   "cell_type": "markdown",
   "metadata": {},
   "source": [
    "* Go to Eix Macià Cinemes web Site. ('http://www.cinemeseixmacia.com/')\n",
    "* Find all the movies that are currently playing in the Cinema.\n",
    "* Filter those movies that starts from at specific time (i.e. 18PM) to 1h and half later and are recomended for a specific age audience (i.e 18 y.o).\n",
    "* Search in themoviedb the average ratings for those movies and select the best one. \n",
    "* Play the movie trailer."
   ]
  }
 ],
 "metadata": {
  "kernelspec": {
   "display_name": "Python 3 (ipykernel)",
   "language": "python",
   "name": "python3"
  },
  "language_info": {
   "codemirror_mode": {
    "name": "ipython",
    "version": 3
   },
   "file_extension": ".py",
   "mimetype": "text/x-python",
   "name": "python",
   "nbconvert_exporter": "python",
   "pygments_lexer": "ipython3",
   "version": "3.8.12"
  }
 },
 "nbformat": 4,
 "nbformat_minor": 2
}
