{
 "cells": [
  {
   "cell_type": "markdown",
   "metadata": {},
   "source": [
    "**Selenium EXERCISE 1:** <BR>\n",
    "<ul>\n",
    "<li> Open a browser \n",
    "\n",
    "<li>Go to tripadvisor/Restaurants\n",
    "\n",
    "<li>Find the search text box\n",
    "\n",
    "<li>Clear it, input the query \"Sant Cugat\" and send it\n",
    "\n",
    "<li>Go to \"Restarurants\" and get all the links and names of top 10 restaurants in Sant cugat\n",
    "<li> Store them in a list of Dictionaries {name,links}\n",
    "</ul>\n"
   ]
  },
  {
   "cell_type": "code",
   "execution_count": 1,
   "metadata": {},
   "outputs": [],
   "source": [
    "from selenium import webdriver\n",
    "from selenium.webdriver.common.by import By\n",
    "from selenium.webdriver.support.ui import WebDriverWait\n",
    "from selenium.webdriver.support import expected_conditions as EC\n",
    "from selenium.common.exceptions import TimeoutException\n",
    "import re"
   ]
  },
  {
   "cell_type": "code",
   "execution_count": 2,
   "metadata": {},
   "outputs": [],
   "source": [
    "# Open browser using Chrome driver\n",
    "driver = webdriver.Chrome('./chromedriver')"
   ]
  },
  {
   "cell_type": "code",
   "execution_count": 3,
   "metadata": {
    "scrolled": false
   },
   "outputs": [],
   "source": [
    "# Open url\n",
    "tripadvisor_url = 'https://www.tripadvisor.com/Restaurants'\n",
    "\n",
    "driver.get(tripadvisor_url)"
   ]
  },
  {
   "cell_type": "code",
   "execution_count": 4,
   "metadata": {},
   "outputs": [],
   "source": [
    "# Close cookies warning\n",
    "try:\n",
    "    # Wait for 'Okay' button to show. This happens only once per\n",
    "    # driver session, so it might've been closed beforehand\n",
    "    ok_button = WebDriverWait(driver, 5).until(\n",
    "        EC.presence_of_element_located((By.XPATH, '//*[@id=\"_evidon-accept-button\"]'))\n",
    "    )\n",
    "    \n",
    "    ok_button.click()\n",
    "except TimeoutException as e:\n",
    "    print(e)"
   ]
  },
  {
   "cell_type": "code",
   "execution_count": 5,
   "metadata": {},
   "outputs": [],
   "source": [
    "search_text = 'Sant Cugat'\n",
    "\n",
    "# Get search bar\n",
    "search_bar = driver.find_element_by_xpath(\n",
    "    '//*[@id=\"component_6\"]/div/div/form/input[1]'\n",
    ")\n",
    "\n",
    "# Write 'Sant Cugat' in the search bar (clear it before in case\n",
    "# there was something written before)\n",
    "search_bar.clear()\n",
    "search_bar.send_keys(search_text)"
   ]
  },
  {
   "cell_type": "code",
   "execution_count": 6,
   "metadata": {},
   "outputs": [],
   "source": [
    "# Click on first option\n",
    "try:\n",
    "    # Wait for first option to contain 'Sant Cugat'. Otherwise, 'Nearby is selected taken'\n",
    "    WebDriverWait(driver, 5).until(\n",
    "        EC.text_to_be_present_in_element((By.XPATH, '//*[@id=\"typeahead_results\"]/a[1]'), search_text)\n",
    "    )\n",
    "    \n",
    "    # Click on 'Sant Cugat' option\n",
    "    sant_cugat = driver.find_element_by_xpath('//*[@id=\"typeahead_results\"]/a[1]')\n",
    "    sant_cugat.click()\n",
    "except TimeoutException as e:\n",
    "    print(e)"
   ]
  },
  {
   "cell_type": "code",
   "execution_count": 7,
   "metadata": {},
   "outputs": [],
   "source": [
    "# Get top restaurants\n",
    "# The xpath expression gets the <a> descendant of all div's whose data-test\n",
    "# attribute contains '_list_item'\n",
    "restaurants = driver.find_elements_by_xpath(\n",
    "    '//*[@id=\"component_2\"]//div[contains(@data-test, \"_list_item\")]/span/div[1]/div[2]/div[1]/div/span/a'\n",
    ")"
   ]
  },
  {
   "cell_type": "code",
   "execution_count": 8,
   "metadata": {},
   "outputs": [
    {
     "name": "stdout",
     "output_type": "stream",
     "text": [
      "1. Piaceri D’ Italia Ristorante Pizzeria\n",
      "https://www.tripadvisor.com/Restaurant_Review-g1080422-d19084243-Reviews-Piaceri_D_Italia_Ristorante_Pizzeria-Sant_Cugat_del_Valles_Catalonia.html\n",
      "2. Restaurant Brau\n",
      "https://www.tripadvisor.com/Restaurant_Review-g1080422-d10195584-Reviews-Restaurant_Brau-Sant_Cugat_del_Valles_Catalonia.html\n",
      "3. Sabatic\n",
      "https://www.tripadvisor.com/Restaurant_Review-g1080422-d10167691-Reviews-Sabatic-Sant_Cugat_del_Valles_Catalonia.html\n",
      "4. Nemesis\n",
      "https://www.tripadvisor.com/Restaurant_Review-g1080422-d11892809-Reviews-Nemesis-Sant_Cugat_del_Valles_Catalonia.html\n",
      "5. Dakidaya\n",
      "https://www.tripadvisor.com/Restaurant_Review-g1080422-d4546707-Reviews-Dakidaya-Sant_Cugat_del_Valles_Catalonia.html\n",
      "6. 9Reinas Sant Cugat\n",
      "https://www.tripadvisor.com/Restaurant_Review-g1080422-d7155184-Reviews-9Reinas_Sant_Cugat-Sant_Cugat_del_Valles_Catalonia.html\n",
      "7. Kitsune Sushi Bar\n",
      "https://www.tripadvisor.com/Restaurant_Review-g1080422-d5966644-Reviews-Kitsune_Sushi_Bar-Sant_Cugat_del_Valles_Catalonia.html\n",
      "8. La Rampa 23\n",
      "https://www.tripadvisor.com/Restaurant_Review-g1080422-d4043880-Reviews-La_Rampa_23-Sant_Cugat_del_Valles_Catalonia.html\n",
      "9. La Rita\n",
      "https://www.tripadvisor.com/Restaurant_Review-g1080422-d10365477-Reviews-La_Rita-Sant_Cugat_del_Valles_Catalonia.html\n",
      "10. El Vi de Deu\n",
      "https://www.tripadvisor.com/Restaurant_Review-g1080422-d7076969-Reviews-El_Vi_de_Deu-Sant_Cugat_del_Valles_Catalonia.html\n"
     ]
    }
   ],
   "source": [
    "# Get top 10 restaurants\n",
    "top_restaurants = {restaurants[i].text: restaurants[i].get_attribute('href') for i in range(10)}\n",
    "\n",
    "for res, link in top_restaurants.items():\n",
    "    print(f'{res}\\n{link}')"
   ]
  },
  {
   "cell_type": "code",
   "execution_count": 9,
   "metadata": {},
   "outputs": [],
   "source": [
    "# Close browser\n",
    "driver.quit()"
   ]
  },
  {
   "cell_type": "markdown",
   "metadata": {},
   "source": [
    "**Selenium EXERCISE 2:**"
   ]
  },
  {
   "cell_type": "markdown",
   "metadata": {},
   "source": [
    "* Go to Eix Macià Cinemes web Site. ('http://www.cinemeseixmacia.com/')\n",
    "* Find all the movies that are currently playing in the Cinema.\n",
    "* Filter those movies that starts from at specific time (i.e. 18PM) to 1h and half later and are recomended for a specific age audience (i.e 18 y.o).\n",
    "* Search in themoviedb the average ratings for those movies and select the best one. \n",
    "* Play the movie trailer."
   ]
  },
  {
   "cell_type": "code",
   "execution_count": 10,
   "metadata": {},
   "outputs": [],
   "source": [
    "# Open browser using Chrome driver\n",
    "driver = webdriver.Chrome('./chromedriver')"
   ]
  },
  {
   "cell_type": "code",
   "execution_count": 11,
   "metadata": {},
   "outputs": [],
   "source": [
    "# Open url\n",
    "macia_url = 'http://www.cinemeseixmacia.com/'\n",
    "driver.get(macia_url)"
   ]
  },
  {
   "cell_type": "code",
   "execution_count": 12,
   "metadata": {},
   "outputs": [
    {
     "name": "stdout",
     "output_type": "stream",
     "text": [
      "11\n"
     ]
    }
   ],
   "source": [
    "movies = driver.find_elements_by_xpath('//*[@id=\"rt-mainbody\"]/div/div[3]/div[contains(@class, \"peli-item\")]')\n",
    "print(len(movies))"
   ]
  },
  {
   "cell_type": "code",
   "execution_count": 13,
   "metadata": {},
   "outputs": [
    {
     "name": "stdout",
     "output_type": "stream",
     "text": [
      "[{'title': 'ATMOS SIN TIEMPO PARA MORIR', 'times': ['18:15', '22:00'], 'age': 12, 'ref': <selenium.webdriver.remote.webelement.WebElement (session=\"ea2e6f6e1d2ac59dfc07f8dc127ef21b\", element=\"065b7b41-634b-4289-b48f-550664291965\")>}, {'title': 'DUNE', 'times': ['16:00', '19:00', '22:00'], 'age': 12, 'ref': <selenium.webdriver.remote.webelement.WebElement (session=\"ea2e6f6e1d2ac59dfc07f8dc127ef21b\", element=\"c12dbf97-b87c-4ac4-ab99-f4b66b4f807a\")>}, {'title': 'LA FAMILIA ADDAMS 2 - LA GRAN ESCAPADA', 'times': ['16:00', '18:15', '20:30', '22:45'], 'age': 0, 'ref': <selenium.webdriver.remote.webelement.WebElement (session=\"ea2e6f6e1d2ac59dfc07f8dc127ef21b\", element=\"b162072f-faef-4931-9126-3b164c5af817\")>}, {'title': 'LA PATRULLA CANINA:LA PELICULA', 'times': ['16:00', '18:00'], 'age': 0, 'ref': <selenium.webdriver.remote.webelement.WebElement (session=\"ea2e6f6e1d2ac59dfc07f8dc127ef21b\", element=\"f27b5b43-0c95-4c18-9f28-27b8b148e66b\")>}, {'title': 'LAS LEYES DE LA FRONTERA', 'times': ['16:00', '19:00', '22:00'], 'age': 16, 'ref': <selenium.webdriver.remote.webelement.WebElement (session=\"ea2e6f6e1d2ac59dfc07f8dc127ef21b\", element=\"2986f872-4810-4f1c-8626-82df444b9ace\")>}, {'title': 'MADRES PARALELAS', 'times': ['16:00', '19:00', '22:00'], 'age': 12, 'ref': <selenium.webdriver.remote.webelement.WebElement (session=\"ea2e6f6e1d2ac59dfc07f8dc127ef21b\", element=\"78936ccd-751b-4727-844a-343dec3ba18e\")>}, {'title': 'MAIXABEL', 'times': ['20:15', '22:30'], 'age': 12, 'ref': <selenium.webdriver.remote.webelement.WebElement (session=\"ea2e6f6e1d2ac59dfc07f8dc127ef21b\", element=\"d0a8bc62-2196-4132-b497-555676857df4\")>}, {'title': 'MEDITERRÁNEO', 'times': ['20:15', '22:30'], 'age': 12, 'ref': <selenium.webdriver.remote.webelement.WebElement (session=\"ea2e6f6e1d2ac59dfc07f8dc127ef21b\", element=\"1af86d35-7a20-4ae4-94c8-5ac274f1a023\")>}, {'title': 'NO RESPIRES 2', 'times': ['16:00', '18:00'], 'age': 16, 'ref': <selenium.webdriver.remote.webelement.WebElement (session=\"ea2e6f6e1d2ac59dfc07f8dc127ef21b\", element=\"18f7baf1-15a0-47a5-8c3c-2de20a7183f0\")>}, {'title': 'SIN TIEMPO PARA MORIR', 'times': ['16:00', '20:30'], 'age': 12, 'ref': <selenium.webdriver.remote.webelement.WebElement (session=\"ea2e6f6e1d2ac59dfc07f8dc127ef21b\", element=\"1012e3cb-c5ab-447d-af5d-afd7cb6a40e0\")>}, {'title': 'VOSE ¿QUIÉN ES QUIÉN?', 'times': ['16:00', '18:00', '20:15', '22:30'], 'age': 7, 'ref': <selenium.webdriver.remote.webelement.WebElement (session=\"ea2e6f6e1d2ac59dfc07f8dc127ef21b\", element=\"a7b5291f-fc56-4c3b-8721-0ac6f70743ae\")>}]\n"
     ]
    }
   ],
   "source": [
    "# Get movie titles\n",
    "movie_titles = [\n",
    "    movie.find_element_by_xpath('.//div/div[2]/div/a/h4').get_attribute('textContent')\n",
    "    for movie in movies\n",
    "]\n",
    "\n",
    "# Get timetables for each movie\n",
    "movie_times = [\n",
    "    [\n",
    "        time.get_attribute('textContent').strip()\n",
    "        for time in movie.find_elements_by_xpath('.//*[contains(@class, \"horasessio\")]/a/button')\n",
    "    ]\n",
    "    for movie in movies\n",
    "]\n",
    "\n",
    "# Get age ratings\n",
    "movie_ages = [\n",
    "    movie.find_element_by_xpath('.//*[@id=\"dadespeli\"]/p[2]/span').get_attribute('textContent')\n",
    "    for movie in movies\n",
    "]\n",
    "\n",
    "# Transform age ratings to numerical values\n",
    "movie_ages = list(map(lambda age: int(age_match[0]) if (age_match := re.match(r'\\d{1,2}', age)) else 0, movie_ages))\n",
    "\n",
    "billboard = [\n",
    "    {'title': title, 'times': times, 'age': age, 'ref': element}\n",
    "    for title, times, age, element in zip(movie_titles, movie_times, movie_ages, movies)\n",
    "]\n",
    "print(billboard)"
   ]
  },
  {
   "cell_type": "code",
   "execution_count": 14,
   "metadata": {},
   "outputs": [],
   "source": [
    "# User data\n",
    "age = 18\n",
    "time = '18:00'"
   ]
  },
  {
   "cell_type": "code",
   "execution_count": 15,
   "metadata": {},
   "outputs": [
    {
     "name": "stdout",
     "output_type": "stream",
     "text": [
      "['18:00', '19:30']\n"
     ]
    }
   ],
   "source": [
    "time_hours, time_minutes = tuple(map(lambda t: int(t), time.split(':')))\n",
    "margin_minutes = (time_minutes + 30) % 60\n",
    "margin_hours = (time_hours + 1 + (time_minutes + 30) // 60) % 24\n",
    "\n",
    "preferred_times = [time, f'{margin_hours}:{margin_minutes if margin_minutes > 0 else \"00\"}']\n",
    "\n",
    "print(preferred_times)"
   ]
  },
  {
   "cell_type": "code",
   "execution_count": 16,
   "metadata": {},
   "outputs": [
    {
     "name": "stdout",
     "output_type": "stream",
     "text": [
      "[{'title': 'ATMOS SIN TIEMPO PARA MORIR', 'times': ['18:15', '22:00'], 'age': 12, 'ref': <selenium.webdriver.remote.webelement.WebElement (session=\"ea2e6f6e1d2ac59dfc07f8dc127ef21b\", element=\"065b7b41-634b-4289-b48f-550664291965\")>}, {'title': 'DUNE', 'times': ['16:00', '19:00', '22:00'], 'age': 12, 'ref': <selenium.webdriver.remote.webelement.WebElement (session=\"ea2e6f6e1d2ac59dfc07f8dc127ef21b\", element=\"c12dbf97-b87c-4ac4-ab99-f4b66b4f807a\")>}, {'title': 'LA FAMILIA ADDAMS 2 - LA GRAN ESCAPADA', 'times': ['16:00', '18:15', '20:30', '22:45'], 'age': 0, 'ref': <selenium.webdriver.remote.webelement.WebElement (session=\"ea2e6f6e1d2ac59dfc07f8dc127ef21b\", element=\"b162072f-faef-4931-9126-3b164c5af817\")>}, {'title': 'LA PATRULLA CANINA:LA PELICULA', 'times': ['16:00', '18:00'], 'age': 0, 'ref': <selenium.webdriver.remote.webelement.WebElement (session=\"ea2e6f6e1d2ac59dfc07f8dc127ef21b\", element=\"f27b5b43-0c95-4c18-9f28-27b8b148e66b\")>}, {'title': 'LAS LEYES DE LA FRONTERA', 'times': ['16:00', '19:00', '22:00'], 'age': 16, 'ref': <selenium.webdriver.remote.webelement.WebElement (session=\"ea2e6f6e1d2ac59dfc07f8dc127ef21b\", element=\"2986f872-4810-4f1c-8626-82df444b9ace\")>}, {'title': 'MADRES PARALELAS', 'times': ['16:00', '19:00', '22:00'], 'age': 12, 'ref': <selenium.webdriver.remote.webelement.WebElement (session=\"ea2e6f6e1d2ac59dfc07f8dc127ef21b\", element=\"78936ccd-751b-4727-844a-343dec3ba18e\")>}, {'title': 'NO RESPIRES 2', 'times': ['16:00', '18:00'], 'age': 16, 'ref': <selenium.webdriver.remote.webelement.WebElement (session=\"ea2e6f6e1d2ac59dfc07f8dc127ef21b\", element=\"18f7baf1-15a0-47a5-8c3c-2de20a7183f0\")>}, {'title': 'VOSE ¿QUIÉN ES QUIÉN?', 'times': ['16:00', '18:00', '20:15', '22:30'], 'age': 7, 'ref': <selenium.webdriver.remote.webelement.WebElement (session=\"ea2e6f6e1d2ac59dfc07f8dc127ef21b\", element=\"a7b5291f-fc56-4c3b-8721-0ac6f70743ae\")>}]\n"
     ]
    }
   ],
   "source": [
    "# Filter data\n",
    "def filter_movie(movie, age, preferred_times):\n",
    "    if age < movie['age']:\n",
    "        return False\n",
    "    \n",
    "    for time in movie['times']:\n",
    "        if time >= preferred_times[0] and time <= preferred_times[1]:\n",
    "            return True\n",
    "    \n",
    "    return False\n",
    "\n",
    "filtered_billboard = list(filter(lambda m: filter_movie(m, age, preferred_times), billboard))\n",
    "print(filtered_billboard)"
   ]
  },
  {
   "cell_type": "code",
   "execution_count": 17,
   "metadata": {},
   "outputs": [],
   "source": [
    "# Get ratings for each movie\n",
    "import requests"
   ]
  },
  {
   "cell_type": "code",
   "execution_count": 18,
   "metadata": {},
   "outputs": [],
   "source": [
    "# Read API key\n",
    "with open('api_key') as f:\n",
    "    api_key = f.read().strip()\n",
    "\n"
   ]
  },
  {
   "cell_type": "code",
   "execution_count": 19,
   "metadata": {},
   "outputs": [
    {
     "name": "stdout",
     "output_type": "stream",
     "text": [
      "[{'title': 'ATMOS SIN TIEMPO PARA MORIR', 'times': ['18:15', '22:00'], 'age': 12, 'ref': <selenium.webdriver.remote.webelement.WebElement (session=\"ea2e6f6e1d2ac59dfc07f8dc127ef21b\", element=\"065b7b41-634b-4289-b48f-550664291965\")>, 'score': 0}, {'title': 'DUNE', 'times': ['16:00', '19:00', '22:00'], 'age': 12, 'ref': <selenium.webdriver.remote.webelement.WebElement (session=\"ea2e6f6e1d2ac59dfc07f8dc127ef21b\", element=\"c12dbf97-b87c-4ac4-ab99-f4b66b4f807a\")>, 'score': 8.1}, {'title': 'LA FAMILIA ADDAMS 2 - LA GRAN ESCAPADA', 'times': ['16:00', '18:15', '20:30', '22:45'], 'age': 0, 'ref': <selenium.webdriver.remote.webelement.WebElement (session=\"ea2e6f6e1d2ac59dfc07f8dc127ef21b\", element=\"b162072f-faef-4931-9126-3b164c5af817\")>, 'score': 7.6}, {'title': 'LA PATRULLA CANINA:LA PELICULA', 'times': ['16:00', '18:00'], 'age': 0, 'ref': <selenium.webdriver.remote.webelement.WebElement (session=\"ea2e6f6e1d2ac59dfc07f8dc127ef21b\", element=\"f27b5b43-0c95-4c18-9f28-27b8b148e66b\")>, 'score': 0}, {'title': 'LAS LEYES DE LA FRONTERA', 'times': ['16:00', '19:00', '22:00'], 'age': 16, 'ref': <selenium.webdriver.remote.webelement.WebElement (session=\"ea2e6f6e1d2ac59dfc07f8dc127ef21b\", element=\"2986f872-4810-4f1c-8626-82df444b9ace\")>, 'score': 7}, {'title': 'MADRES PARALELAS', 'times': ['16:00', '19:00', '22:00'], 'age': 12, 'ref': <selenium.webdriver.remote.webelement.WebElement (session=\"ea2e6f6e1d2ac59dfc07f8dc127ef21b\", element=\"78936ccd-751b-4727-844a-343dec3ba18e\")>, 'score': 6.6}, {'title': 'NO RESPIRES 2', 'times': ['16:00', '18:00'], 'age': 16, 'ref': <selenium.webdriver.remote.webelement.WebElement (session=\"ea2e6f6e1d2ac59dfc07f8dc127ef21b\", element=\"18f7baf1-15a0-47a5-8c3c-2de20a7183f0\")>, 'score': 7.7}, {'title': 'VOSE ¿QUIÉN ES QUIÉN?', 'times': ['16:00', '18:00', '20:15', '22:30'], 'age': 7, 'ref': <selenium.webdriver.remote.webelement.WebElement (session=\"ea2e6f6e1d2ac59dfc07f8dc127ef21b\", element=\"a7b5291f-fc56-4c3b-8721-0ac6f70743ae\")>, 'score': 0}]\n"
     ]
    }
   ],
   "source": [
    "tmdb_url = 'https://api.themoviedb.org/3/search/movie'\n",
    "params = {'page': 1, 'api_key': api_key, 'region': 'ES', 'language': 'es-ES'}\n",
    "\n",
    "for movie in filtered_billboard:\n",
    "    params['query'] = movie['title']\n",
    "    response = requests.get(tmdb_url, params=params)\n",
    "    res_json = response.json()['results']\n",
    "    movie['score'] = res_json[0]['vote_average'] if res_json else 0\n",
    "    #print(res_json)\n",
    "\n",
    "print(filtered_billboard)"
   ]
  },
  {
   "cell_type": "code",
   "execution_count": 20,
   "metadata": {},
   "outputs": [],
   "source": [
    "best_movie = max(filtered_billboard, key=lambda x: x['score'])"
   ]
  },
  {
   "cell_type": "code",
   "execution_count": 21,
   "metadata": {},
   "outputs": [],
   "source": [
    "trailer_button = best_movie['ref'].find_element_by_xpath('.//div[contains(@class, \"peli-botons\")]/a[1]/button')\n",
    "webdriver.ActionChains(driver).move_to_element(best_movie['ref']).click(trailer_button).perform()"
   ]
  },
  {
   "cell_type": "code",
   "execution_count": 22,
   "metadata": {},
   "outputs": [],
   "source": [
    "driver.switch_to.frame(driver.find_element_by_xpath('/html/body/div[5]/div/div/div/div/iframe'))\n",
    "\n",
    "try:\n",
    "    play_button = WebDriverWait(driver, 5).until(\n",
    "        EC.element_to_be_clickable((By.XPATH,'//*[@id=\"movie_player\"]/div[4]/button'))\n",
    "    )\n",
    "        \n",
    "    play_button.click()\n",
    "except TimeoutException as e:\n",
    "    print(e)"
   ]
  }
 ],
 "metadata": {
  "kernelspec": {
   "display_name": "Python 3 (ipykernel)",
   "language": "python",
   "name": "python3"
  },
  "language_info": {
   "codemirror_mode": {
    "name": "ipython",
    "version": 3
   },
   "file_extension": ".py",
   "mimetype": "text/x-python",
   "name": "python",
   "nbconvert_exporter": "python",
   "pygments_lexer": "ipython3",
   "version": "3.8.12"
  }
 },
 "nbformat": 4,
 "nbformat_minor": 2
}
